{
 "cells": [
  {
   "cell_type": "code",
   "execution_count": 1,
   "metadata": {
    "collapsed": true
   },
   "outputs": [],
   "source": [
    "\"\"\"\n",
    "tf v0.11\n",
    "\n",
    "Following the toy implementation in seq2seq_number_seq01.ipynb,\n",
    "to test the translation power of seq2seq, I insert a magic number at the back of the decoder seq.\n",
    "e.g. [1,2,3,4,5] -> [2,3,4,5,6, (1+2+3+4+5) mod 7]\n",
    "\n",
    "It turns out seq2seq is able to predict the magic number at a very small computational cost.\n",
    "It is interesting to test how far seq2seq can go in guessing discrete value sequences.\n",
    "\"\"\"\n",
    "\n",
    "import numpy as np\n",
    "\n",
    "# number of sentences to input in each training epoch\n",
    "batch_size = 64\n",
    "\n",
    "# number of words in one sentence\n",
    "seq_length_input = 5\n",
    "seq_length_output = 6\n",
    "\n",
    "# number of possible words\n",
    "vocab_size = 7\n",
    "\n",
    "# embedding dimension\n",
    "embedding_dim = 50\n",
    "\n",
    "# number of hidden neuron in an rnn cell \n",
    "memory_dim = 100\n",
    "\n",
    "# give a batch_size of translation pairs, example see next cell\n",
    "def get_train_batch(batch_size):\n",
    "    X = [np.random.choice(vocab_size, size=(seq_length_input,), replace=False)\n",
    "         for _ in range(batch_size)]\n",
    "    Y = np.mod(X + np.ones_like(X), 7)\n",
    "    Y = np.c_[Y, np.mod(np.sum(X, axis=1), 7).reshape(batch_size, -1)]\n",
    "    \n",
    "    # Dimshuffle to seq_len * batch_size\n",
    "    X = np.array(X).T\n",
    "    Y = np.array(Y).T\n",
    "    \n",
    "    return X, Y"
   ]
  },
  {
   "cell_type": "markdown",
   "metadata": {},
   "source": [
    "# Example of a dataset"
   ]
  },
  {
   "cell_type": "code",
   "execution_count": 2,
   "metadata": {
    "collapsed": false
   },
   "outputs": [
    {
     "name": "stdout",
     "output_type": "stream",
     "text": [
      "Two data points:\n",
      "[[0 1]\n",
      " [5 2]\n",
      " [4 4]\n",
      " [3 0]\n",
      " [6 3]]\n",
      "\n",
      "Two labels:\n",
      "[[1 2]\n",
      " [6 3]\n",
      " [5 5]\n",
      " [4 1]\n",
      " [0 4]\n",
      " [4 3]]\n"
     ]
    }
   ],
   "source": [
    "X, Y = get_train_batch(2)\n",
    "print(\"Two data points:\")\n",
    "print(X)\n",
    "print()\n",
    "print(\"Two labels:\")\n",
    "print(Y)"
   ]
  },
  {
   "cell_type": "markdown",
   "metadata": {},
   "source": [
    "# Define neural net and cost"
   ]
  },
  {
   "cell_type": "code",
   "execution_count": 3,
   "metadata": {
    "collapsed": false
   },
   "outputs": [],
   "source": [
    "import tensorflow as tf\n",
    "\n",
    "# dim: seq_length_input x batch_size\n",
    "encode_inputs = [tf.placeholder(tf.int32, shape=(None,),\n",
    "                          name=\"inp%i\" % t)\n",
    "           for t in range(seq_length_input)]\n",
    "\n",
    "# dim: seq_length_output x batch_size\n",
    "labels = [tf.placeholder(tf.int32, shape=(None,),\n",
    "                        name=\"labels%i\" % t)\n",
    "          for t in range(seq_length_output)]\n",
    "\n",
    "# dim: seq_length_output x batch_size\n",
    "weights = [tf.ones_like(labels_t, dtype=tf.float32)\n",
    "           for labels_t in labels]\n",
    "\n",
    "# decoder\n",
    "decode_inputs = [tf.zeros_like(tensor) for tensor in labels]\n",
    "\n",
    "# gru cell\n",
    "cell = tf.nn.rnn_cell.GRUCell(memory_dim)\n",
    "\n",
    "# decode_outputs dim: seq_length x batch_size x vocab size\n",
    "decode_outputs, dec_memory = tf.nn.seq2seq.embedding_rnn_seq2seq(\n",
    "    encode_inputs, decode_inputs, cell, vocab_size, vocab_size, embedding_dim)\n",
    "\n",
    "# get the index of the largest number in vocab dimension -> this is going to be the predicted output\n",
    "prediction = tf.argmax(decode_outputs, 2)\n",
    "\n",
    "loss = tf.nn.seq2seq.sequence_loss(decode_outputs, labels, weights, vocab_size)\n",
    "\n",
    "magnitude = tf.sqrt(tf.reduce_sum(tf.square(dec_memory[1])))\n",
    "\n",
    "learning_rate = 0.05\n",
    "momentum = 0.9\n",
    "train_op = tf.train.MomentumOptimizer(learning_rate, momentum).minimize(loss)"
   ]
  },
  {
   "cell_type": "markdown",
   "metadata": {},
   "source": [
    "# Training time"
   ]
  },
  {
   "cell_type": "code",
   "execution_count": 7,
   "metadata": {
    "collapsed": false,
    "scrolled": true
   },
   "outputs": [
    {
     "name": "stdout",
     "output_type": "stream",
     "text": [
      "------ iteration 0 -------\n",
      "data [0 6 4 1 2]\n",
      "target [1 0 5 2 3 6]\n",
      "predict [5 5 5 5 5 5]\n",
      "loss 1.97378\n",
      "\n",
      "------ iteration 100 -------\n",
      "data [0 5 4 2 6]\n",
      "target [1 6 5 3 0 3]\n",
      "predict [1 3 3 3 3 0]\n",
      "loss 1.7558\n",
      "\n",
      "------ iteration 200 -------\n",
      "data [4 3 5 0 6]\n",
      "target [5 4 6 1 0 4]\n",
      "predict [6 6 6 1 1 0]\n",
      "loss 1.50417\n",
      "\n",
      "------ iteration 300 -------\n",
      "data [1 0 6 3 2]\n",
      "target [2 1 0 4 3 5]\n",
      "predict [2 2 4 0 3 3]\n",
      "loss 1.23574\n",
      "\n",
      "------ iteration 400 -------\n",
      "data [1 0 2 6 4]\n",
      "target [2 1 3 0 5 6]\n",
      "predict [2 1 3 5 5 6]\n",
      "loss 0.683473\n",
      "\n",
      "------ iteration 500 -------\n",
      "data [0 1 5 6 4]\n",
      "target [1 2 6 0 5 2]\n",
      "predict [1 2 6 0 5 2]\n",
      "loss 0.325934\n",
      "\n",
      "------ iteration 600 -------\n",
      "data [1 6 0 2 4]\n",
      "target [2 0 1 3 5 6]\n",
      "predict [2 0 1 3 5 6]\n",
      "loss 0.138587\n",
      "\n",
      "------ iteration 700 -------\n",
      "data [0 1 4 5 2]\n",
      "target [1 2 5 6 3 5]\n",
      "predict [1 2 5 6 3 5]\n",
      "loss 0.0515718\n",
      "\n",
      "------ iteration 800 -------\n",
      "data [3 2 4 0 5]\n",
      "target [4 3 5 1 6 0]\n",
      "predict [4 3 5 1 6 0]\n",
      "loss 0.0327763\n",
      "\n",
      "------ iteration 900 -------\n",
      "data [0 2 6 1 5]\n",
      "target [1 3 0 2 6 0]\n",
      "predict [1 3 0 2 6 0]\n",
      "loss 0.0167957\n",
      "\n",
      "------ iteration 1000 -------\n",
      "data [2 6 0 4 1]\n",
      "target [3 0 1 5 2 6]\n",
      "predict [3 0 1 5 2 6]\n",
      "loss 0.0105417\n",
      "\n"
     ]
    }
   ],
   "source": [
    "sess = tf.Session()\n",
    "sess.run(tf.initialize_all_variables())\n",
    "\n",
    "for t in range(1001):\n",
    "    \n",
    "    X, Y = get_train_batch(batch_size)\n",
    "    \n",
    "    feed_dict = {encode_inputs[t]: X[t] for t in range(seq_length_input)}\n",
    "    feed_dict.update({labels[t]: Y[t] for t in range(seq_length_output)})\n",
    "\n",
    "    _, predict_t, loss_t = sess.run([train_op, prediction, loss], feed_dict)\n",
    "    \n",
    "    if t%100 == 0:\n",
    "        print('------ iteration', t, '-------')\n",
    "        print('data', X[:,0])\n",
    "        print('target', Y[:,0])\n",
    "        print('predict', predict_t[:,0])\n",
    "        print('loss', loss_t)\n",
    "        print()\n",
    "\n",
    "\n",
    "    \n"
   ]
  },
  {
   "cell_type": "code",
   "execution_count": null,
   "metadata": {
    "collapsed": true
   },
   "outputs": [],
   "source": []
  }
 ],
 "metadata": {
  "anaconda-cloud": {},
  "kernelspec": {
   "display_name": "Python 3",
   "language": "python",
   "name": "python3"
  },
  "language_info": {
   "codemirror_mode": {
    "name": "ipython",
    "version": 3
   },
   "file_extension": ".py",
   "mimetype": "text/x-python",
   "name": "python",
   "nbconvert_exporter": "python",
   "pygments_lexer": "ipython3",
   "version": "3.5.2"
  }
 },
 "nbformat": 4,
 "nbformat_minor": 1
}

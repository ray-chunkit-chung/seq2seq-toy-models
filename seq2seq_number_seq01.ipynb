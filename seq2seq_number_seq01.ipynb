{
 "cells": [
  {
   "cell_type": "code",
   "execution_count": 1,
   "metadata": {
    "collapsed": true
   },
   "outputs": [],
   "source": [
    "\"\"\"\n",
    "a toy implementation of seq2seq by tf v0.11\n",
    "a translator between two meaningful number sequences, e.g., [1,2,3,4,5] -> [2,3,4,5,6]\n",
    "\"\"\"\n",
    "\n",
    "import numpy as np\n",
    "\n",
    "# number of sentences to input in each training epoch\n",
    "batch_size = 64\n",
    "\n",
    "# number of words in one sentence\n",
    "seq_length = 5\n",
    "\n",
    "# number of possible words\n",
    "vocab_size = 7\n",
    "\n",
    "# embedding dimension\n",
    "embedding_dim = 50\n",
    "\n",
    "# number of hidden neuron in an rnn cell \n",
    "memory_dim = 100\n",
    "\n",
    "def get_train_batch(batch_size):\n",
    "    X = [np.random.choice(vocab_size, size=(seq_length,), replace=False)\n",
    "         for _ in range(batch_size)]\n",
    "    Y = np.mod(X + np.ones_like(X), 7)\n",
    "    \n",
    "    # Dimshuffle to seq_len * batch_size\n",
    "    X = np.array(X).T\n",
    "    Y = np.array(Y).T\n",
    "    \n",
    "    return X, Y"
   ]
  },
  {
   "cell_type": "markdown",
   "metadata": {},
   "source": [
    "# Example of a dataset"
   ]
  },
  {
   "cell_type": "code",
   "execution_count": 2,
   "metadata": {
    "collapsed": false
   },
   "outputs": [
    {
     "name": "stdout",
     "output_type": "stream",
     "text": [
      "Two data points:\n",
      "[[1 4]\n",
      " [2 5]\n",
      " [3 1]\n",
      " [0 6]\n",
      " [4 3]]\n",
      "\n",
      "Two labels:\n",
      "[[2 5]\n",
      " [3 6]\n",
      " [4 2]\n",
      " [1 0]\n",
      " [5 4]]\n"
     ]
    }
   ],
   "source": [
    "X, Y = get_train_batch(2)\n",
    "print(\"Two data points:\")\n",
    "print(X)\n",
    "print()\n",
    "print(\"Two labels:\")\n",
    "print(Y)"
   ]
  },
  {
   "cell_type": "markdown",
   "metadata": {},
   "source": [
    "# Define neural net and cost"
   ]
  },
  {
   "cell_type": "code",
   "execution_count": 3,
   "metadata": {
    "collapsed": false
   },
   "outputs": [],
   "source": [
    "import tensorflow as tf\n",
    "\n",
    "# dim: seq_length x batch_size\n",
    "encode_inputs = [tf.placeholder(tf.int32, shape=(None,),\n",
    "                          name=\"inp%i\" % t)\n",
    "           for t in range(seq_length)]\n",
    "\n",
    "# dim: seq_length x batch_size\n",
    "labels = [tf.placeholder(tf.int32, shape=(None,),\n",
    "                        name=\"labels%i\" % t)\n",
    "          for t in range(seq_length)]\n",
    "\n",
    "# dim: seq_length x batch_size\n",
    "weights = [tf.ones_like(labels_t, dtype=tf.float32)\n",
    "           for labels_t in labels]\n",
    "\n",
    "# Decoder input: \"GO\" + encode_inputs[drop last element]\n",
    "decode_inputs = [tf.zeros_like(encode_inputs[0], dtype=np.int32, name=\"GO\")] + encode_inputs[:-1]\n",
    "\n",
    "cell = tf.nn.rnn_cell.GRUCell(memory_dim)\n",
    "\n",
    "# decode_outputs dim: seq_length x batch_size x vocab size\n",
    "decode_outputs, dec_memory = tf.nn.seq2seq.embedding_rnn_seq2seq(\n",
    "    encode_inputs, decode_inputs, cell, vocab_size, vocab_size, embedding_dim)\n",
    "\n",
    "# get the index of the largest number in vocab dimension -> this is going to be the predicted output\n",
    "prediction = tf.argmax(decode_outputs, 2)\n",
    "\n",
    "loss = tf.nn.seq2seq.sequence_loss(decode_outputs, labels, weights, vocab_size)\n",
    "\n",
    "magnitude = tf.sqrt(tf.reduce_sum(tf.square(dec_memory[1])))\n",
    "\n",
    "learning_rate = 0.05\n",
    "momentum = 0.9\n",
    "train_op = tf.train.MomentumOptimizer(learning_rate, momentum).minimize(loss)"
   ]
  },
  {
   "cell_type": "markdown",
   "metadata": {},
   "source": [
    "# Training time"
   ]
  },
  {
   "cell_type": "code",
   "execution_count": 4,
   "metadata": {
    "collapsed": false
   },
   "outputs": [
    {
     "name": "stdout",
     "output_type": "stream",
     "text": [
      "------ epoch 0 -------\n",
      "data [2 0 1 4 5]\n",
      "label [3 1 2 5 6]\n",
      "predict [0 1 0 1 4]\n",
      "1.95216\n",
      "\n",
      "------ epoch 100 -------\n",
      "data [3 0 6 5 2]\n",
      "label [4 1 0 6 3]\n",
      "predict [1 6 6 6 3]\n",
      "1.15641\n",
      "\n",
      "------ epoch 200 -------\n",
      "data [3 1 4 2 6]\n",
      "label [4 2 5 3 0]\n",
      "predict [4 2 5 3 0]\n",
      "0.110183\n",
      "\n",
      "------ epoch 300 -------\n",
      "data [3 4 2 0 1]\n",
      "label [4 5 3 1 2]\n",
      "predict [4 5 3 1 2]\n",
      "0.0239778\n",
      "\n",
      "------ epoch 400 -------\n",
      "data [2 0 4 5 3]\n",
      "label [3 1 5 6 4]\n",
      "predict [3 1 5 6 4]\n",
      "0.0118815\n",
      "\n"
     ]
    }
   ],
   "source": [
    "sess = tf.Session()\n",
    "sess.run(tf.initialize_all_variables())\n",
    "\n",
    "for t in range(500):\n",
    "    \n",
    "    X, Y = get_train_batch(batch_size)\n",
    "    \n",
    "    feed_dict = {encode_inputs[t]: X[t] for t in range(seq_length)}\n",
    "    feed_dict.update({labels[t]: Y[t] for t in range(seq_length)})\n",
    "\n",
    "    _, predict_t, loss_t = sess.run([train_op, prediction, loss], feed_dict)\n",
    "    \n",
    "    if t%100 == 0:\n",
    "        \n",
    "        print('------ epoch', t, '-------')\n",
    "        print('data', X[:,0])\n",
    "        print('label', Y[:,0])\n",
    "        print('predict', predict_t[:,0])\n",
    "        print(loss_t)\n",
    "        print()\n"
   ]
  }
 ],
 "metadata": {
  "anaconda-cloud": {},
  "kernelspec": {
   "display_name": "Python 3",
   "language": "python",
   "name": "python3"
  },
  "language_info": {
   "codemirror_mode": {
    "name": "ipython",
    "version": 3
   },
   "file_extension": ".py",
   "mimetype": "text/x-python",
   "name": "python",
   "nbconvert_exporter": "python",
   "pygments_lexer": "ipython3",
   "version": "3.5.2"
  }
 },
 "nbformat": 4,
 "nbformat_minor": 1
}
